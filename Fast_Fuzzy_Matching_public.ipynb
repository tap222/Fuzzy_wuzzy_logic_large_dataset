{
 "cells": [
  {
   "cell_type": "markdown",
   "metadata": {
    "colab_type": "text",
    "id": "44OAr7FgxyKK"
   },
   "source": [
    "#Fast Fuzzy Matching\n",
    "This notebook shows how to use TD IDF to both dedupe and match records at scale"
   ]
  },
  {
   "cell_type": "code",
   "execution_count": 2,
   "metadata": {
    "colab": {
     "base_uri": "https://localhost:8080/",
     "height": 119
    },
    "colab_type": "code",
    "id": "Bjon4p9R72o3",
    "outputId": "f579771b-6d01-469b-cf95-afd4893c59ec"
   },
   "outputs": [],
   "source": [
    "import pandas as pd\n",
    "pd.set_option('display.max_colwidth', -1)\n",
    "from tqdm import tqdm\n",
    "#from google.colab import drive\n",
    "import os\n",
    "from matplotlib import style\n",
    "style.use('fivethirtyeight')\n"
   ]
  },
  {
   "cell_type": "markdown",
   "metadata": {
    "colab_type": "text",
    "id": "MWOa7GZ4CwRr"
   },
   "source": [
    "The data can be found at the following link:\n",
    "https://drive.google.com/file/d/1EAXvkiik5EO8FcpEwfX3muQEm6cqPGrQ/view?usp=sharing\n"
   ]
  },
  {
   "cell_type": "code",
   "execution_count": 3,
   "metadata": {
    "colab": {},
    "colab_type": "code",
    "id": "zZmlhiE9jvdr"
   },
   "outputs": [
    {
     "name": "stdout",
     "output_type": "stream",
     "text": [
      "The shape: 3651 x 3\n",
      "There are 3651 unique values\n"
     ]
    }
   ],
   "source": [
    "names =  pd.read_csv('messy org names.csv',encoding='latin')\n",
    "print('The shape: %d x %d' % names.shape)\n",
    "print('There are %d unique values' % names.buyer.shape[0])\n"
   ]
  },
  {
   "cell_type": "markdown",
   "metadata": {
    "colab_type": "text",
    "id": "OTTk4msvpGtz"
   },
   "source": [
    "##De duplication:"
   ]
  },
  {
   "cell_type": "code",
   "execution_count": 5,
   "metadata": {
    "colab": {
     "base_uri": "https://localhost:8080/",
     "height": 85
    },
    "colab_type": "code",
    "id": "w8nlYCUq8Ge6",
    "outputId": "4f6a0582-d888-43a6-e70d-688d2fac3ddb"
   },
   "outputs": [
    {
     "name": "stderr",
     "output_type": "stream",
     "text": [
      "ERROR: Invalid requirement: '#'\n"
     ]
    },
    {
     "name": "stdout",
     "output_type": "stream",
     "text": [
      "All 3-grams in \"Department\":\n",
      "[' De', 'Dep', 'epa', 'par', 'art', 'rtm', 'tme', 'men', 'ent', 'nt ']\n"
     ]
    }
   ],
   "source": [
    "import re\n",
    "#!pip install ftfy # amazing text cleaning for decode issues..\n",
    "from ftfy import fix_text\n",
    "\n",
    "def ngrams(string, n=3):\n",
    "    string = fix_text(string) # fix text\n",
    "    string = string.encode(\"ascii\", errors=\"ignore\").decode() #remove non ascii chars\n",
    "    string = string.lower()\n",
    "    chars_to_remove = [\")\",\"(\",\".\",\"|\",\"[\",\"]\",\"{\",\"}\",\"'\"]\n",
    "    rx = '[' + re.escape(''.join(chars_to_remove)) + ']'\n",
    "    string = re.sub(rx, '', string)\n",
    "    string = string.replace('&', 'and')\n",
    "    string = string.replace(',', ' ')\n",
    "    string = string.replace('-', ' ')\n",
    "    string = string.title() # normalise case - capital at start of each word\n",
    "    string = re.sub(' +',' ',string).strip() # get rid of multiple spaces and replace with a single\n",
    "    string = ' '+ string +' ' # pad names for ngrams...\n",
    "    string = re.sub(r'[,-./]|\\sBD',r'', string)\n",
    "    ngrams = zip(*[string[i:] for i in range(n)])\n",
    "    return [''.join(ngram) for ngram in ngrams]\n",
    "\n",
    "print('All 3-grams in \"Department\":')\n",
    "print(ngrams('Department'))"
   ]
  },
  {
   "cell_type": "code",
   "execution_count": 6,
   "metadata": {
    "colab": {
     "base_uri": "https://localhost:8080/",
     "height": 34
    },
    "colab_type": "code",
    "id": "A79UqAxI8gTo",
    "outputId": "54d5ede5-4986-4d4f-c7e9-2959a308bcc8"
   },
   "outputs": [
    {
     "name": "stderr",
     "output_type": "stream",
     "text": [
      "ERROR: Invalid requirement: '#uncomment'\n"
     ]
    },
    {
     "ename": "ModuleNotFoundError",
     "evalue": "No module named 'sparse_dot_topn'",
     "output_type": "error",
     "traceback": [
      "\u001b[1;31m---------------------------------------------------------------------------\u001b[0m",
      "\u001b[1;31mModuleNotFoundError\u001b[0m                       Traceback (most recent call last)",
      "\u001b[1;32m<ipython-input-6-8a6e372aa408>\u001b[0m in \u001b[0;36m<module>\u001b[1;34m\u001b[0m\n\u001b[0;32m      2\u001b[0m \u001b[1;32mfrom\u001b[0m \u001b[0mscipy\u001b[0m\u001b[1;33m.\u001b[0m\u001b[0msparse\u001b[0m \u001b[1;32mimport\u001b[0m \u001b[0mcsr_matrix\u001b[0m\u001b[1;33m\u001b[0m\u001b[1;33m\u001b[0m\u001b[0m\n\u001b[0;32m      3\u001b[0m \u001b[0mget_ipython\u001b[0m\u001b[1;33m(\u001b[0m\u001b[1;33m)\u001b[0m\u001b[1;33m.\u001b[0m\u001b[0msystem\u001b[0m\u001b[1;33m(\u001b[0m\u001b[1;34m'pip install sparse_dot_topn #uncomment to install'\u001b[0m\u001b[1;33m)\u001b[0m\u001b[1;33m\u001b[0m\u001b[1;33m\u001b[0m\u001b[0m\n\u001b[1;32m----> 4\u001b[1;33m \u001b[1;32mimport\u001b[0m \u001b[0msparse_dot_topn\u001b[0m\u001b[1;33m.\u001b[0m\u001b[0msparse_dot_topn\u001b[0m \u001b[1;32mas\u001b[0m \u001b[0mct\u001b[0m\u001b[1;33m\u001b[0m\u001b[1;33m\u001b[0m\u001b[0m\n\u001b[0m\u001b[0;32m      5\u001b[0m \u001b[1;33m\u001b[0m\u001b[0m\n\u001b[0;32m      6\u001b[0m \u001b[1;33m\u001b[0m\u001b[0m\n",
      "\u001b[1;31mModuleNotFoundError\u001b[0m: No module named 'sparse_dot_topn'"
     ]
    }
   ],
   "source": [
    "import numpy as np\n",
    "from scipy.sparse import csr_matrix\n",
    "!pip install sparse_dot_topn #uncomment to install\n",
    "import sparse_dot_topn.sparse_dot_topn as ct\n",
    "\n",
    "\n",
    "def awesome_cossim_top(A, B, ntop, lower_bound=0):\n",
    "    # force A and B as a CSR matrix.\n",
    "    # If they have already been CSR, there is no overhead\n",
    "    A = A.tocsr()\n",
    "    B = B.tocsr()\n",
    "    M, _ = A.shape\n",
    "    _, N = B.shape\n",
    " \n",
    "    idx_dtype = np.int32\n",
    " \n",
    "    nnz_max = M*ntop\n",
    " \n",
    "    indptr = np.zeros(M+1, dtype=idx_dtype)\n",
    "    indices = np.zeros(nnz_max, dtype=idx_dtype)\n",
    "    data = np.zeros(nnz_max, dtype=A.dtype)\n",
    "\n",
    "    ct.sparse_dot_topn(\n",
    "        M, N, np.asarray(A.indptr, dtype=idx_dtype),\n",
    "        np.asarray(A.indices, dtype=idx_dtype),\n",
    "        A.data,\n",
    "        np.asarray(B.indptr, dtype=idx_dtype),\n",
    "        np.asarray(B.indices, dtype=idx_dtype),\n",
    "        B.data,\n",
    "        ntop,\n",
    "        lower_bound,\n",
    "        indptr, indices, data)\n",
    "\n",
    "    return csr_matrix((data,indices,indptr),shape=(M,N))"
   ]
  },
  {
   "cell_type": "code",
   "execution_count": 0,
   "metadata": {
    "colab": {},
    "colab_type": "code",
    "id": "ASiBTLWG3GGr"
   },
   "outputs": [],
   "source": [
    "from sklearn.feature_extraction.text import TfidfVectorizer\n",
    "\n",
    "org_names = names['buyer'].unique()\n",
    "vectorizer = TfidfVectorizer(min_df=1, analyzer=ngrams)\n",
    "tf_idf_matrix = vectorizer.fit_transform(org_names)"
   ]
  },
  {
   "cell_type": "code",
   "execution_count": 0,
   "metadata": {
    "colab": {
     "base_uri": "https://localhost:8080/",
     "height": 34
    },
    "colab_type": "code",
    "id": "PYPOGZBm864e",
    "outputId": "b755a510-9edd-43fc-8035-2cbfc4e2f131"
   },
   "outputs": [
    {
     "name": "stdout",
     "output_type": "stream",
     "text": [
      "SELFTIMED: 0.19199132919311523\n"
     ]
    }
   ],
   "source": [
    "import time\n",
    "t1 = time.time()\n",
    "matches = awesome_cossim_top(tf_idf_matrix, tf_idf_matrix.transpose(), 10, 0.85)\n",
    "t = time.time()-t1\n",
    "print(\"SELFTIMED:\", t)"
   ]
  },
  {
   "cell_type": "markdown",
   "metadata": {
    "colab_type": "text",
    "id": "75vYVJNyXteF"
   },
   "source": [
    "#### Comparison to traditional matching\n",
    "This code prints the time it takes to compare <b>only one</b> item against the population. As you can see, the TD IDF approach can match all items (3,600) significantly faster than it takes to compare a single item using the fuzzywuzzy library."
   ]
  },
  {
   "cell_type": "code",
   "execution_count": 0,
   "metadata": {
    "colab": {
     "base_uri": "https://localhost:8080/",
     "height": 85
    },
    "colab_type": "code",
    "id": "FeuMA6DPXEq9",
    "outputId": "3e699805-570f-44eb-d658-91fd039fc00c"
   },
   "outputs": [
    {
     "name": "stdout",
     "output_type": "stream",
     "text": [
      "Requirement already satisfied: fuzzywuzzy in /usr/local/lib/python3.6/dist-packages (0.17.0)\n",
      "('MINISTRY OF JUSTICE', 100)\n",
      "SELFTIMED: 3.7267706394195557\n",
      "Estimated hrs to complete for full dataset: 3.7795665568113326\n"
     ]
    }
   ],
   "source": [
    "!pip install fuzzywuzzy\n",
    "from fuzzywuzzy import fuzz\n",
    "from fuzzywuzzy import process\n",
    "\n",
    "t1 = time.time()\n",
    "print(process.extractOne('Ministry of Justice', org_names))\n",
    "t = time.time()-t1\n",
    "print(\"SELFTIMED:\", t)\n",
    "print(\"Estimated hours to complete for full dataset:\", (t*len(org_names))/60/60)"
   ]
  },
  {
   "cell_type": "markdown",
   "metadata": {
    "colab_type": "text",
    "id": "bm4ZhuYpD335"
   },
   "source": [
    "#### Inputting results into a df:"
   ]
  },
  {
   "cell_type": "code",
   "execution_count": 0,
   "metadata": {
    "colab": {},
    "colab_type": "code",
    "id": "ZmTi9O4v9S3a"
   },
   "outputs": [],
   "source": [
    "def get_matches_df(sparse_matrix, name_vector, top=100):\n",
    "    non_zeros = sparse_matrix.nonzero()\n",
    "    \n",
    "    sparserows = non_zeros[0]\n",
    "    sparsecols = non_zeros[1]\n",
    "    \n",
    "    if top:\n",
    "        nr_matches = top\n",
    "    else:\n",
    "        nr_matches = sparsecols.size\n",
    "    \n",
    "    left_side = np.empty([nr_matches], dtype=object)\n",
    "    right_side = np.empty([nr_matches], dtype=object)\n",
    "    similairity = np.zeros(nr_matches)\n",
    "    \n",
    "    for index in range(0, nr_matches):\n",
    "        left_side[index] = name_vector[sparserows[index]]\n",
    "        right_side[index] = name_vector[sparsecols[index]]\n",
    "        similairity[index] = sparse_matrix.data[index]\n",
    "    \n",
    "    return pd.DataFrame({'left_side': left_side,\n",
    "                          'right_side': right_side,\n",
    "                           'similairity': similairity})"
   ]
  },
  {
   "cell_type": "code",
   "execution_count": 0,
   "metadata": {
    "colab": {
     "base_uri": "https://localhost:8080/",
     "height": 669
    },
    "colab_type": "code",
    "id": "xgN1Zbjj9WGY",
    "outputId": "269132d4-dba8-46b0-a5ee-1aa0f838f846"
   },
   "outputs": [
    {
     "data": {
      "text/html": [
       "<div>\n",
       "<style scoped>\n",
       "    .dataframe tbody tr th:only-of-type {\n",
       "        vertical-align: middle;\n",
       "    }\n",
       "\n",
       "    .dataframe tbody tr th {\n",
       "        vertical-align: top;\n",
       "    }\n",
       "\n",
       "    .dataframe thead th {\n",
       "        text-align: right;\n",
       "    }\n",
       "</style>\n",
       "<table border=\"1\" class=\"dataframe\">\n",
       "  <thead>\n",
       "    <tr style=\"text-align: right;\">\n",
       "      <th></th>\n",
       "      <th>left_side</th>\n",
       "      <th>right_side</th>\n",
       "      <th>similairity</th>\n",
       "    </tr>\n",
       "  </thead>\n",
       "  <tbody>\n",
       "    <tr>\n",
       "      <th>160</th>\n",
       "      <td>Telford &amp;amp; Wrekin Council</td>\n",
       "      <td>Telford and Wrekin Borough Council</td>\n",
       "      <td>0.895928</td>\n",
       "    </tr>\n",
       "    <tr>\n",
       "      <th>668</th>\n",
       "      <td>Ministry of Defence, C&amp;amp;C, C&amp;amp;C</td>\n",
       "      <td>Ministry of Defence, C&amp;amp;C,</td>\n",
       "      <td>0.917397</td>\n",
       "    </tr>\n",
       "    <tr>\n",
       "      <th>310</th>\n",
       "      <td>WATER SERVICES REGULATION AUTHORITY</td>\n",
       "      <td>Water Services Regulation Authority (Ofwat)</td>\n",
       "      <td>0.855080</td>\n",
       "    </tr>\n",
       "    <tr>\n",
       "      <th>517</th>\n",
       "      <td>Coventry &amp;amp; Warwickshire Partnership NHS Trust</td>\n",
       "      <td>Coventry and Warwickshire Partnership trust</td>\n",
       "      <td>0.922035</td>\n",
       "    </tr>\n",
       "    <tr>\n",
       "      <th>519</th>\n",
       "      <td>Coventry &amp;amp; Warwickshire Partnership NHS Trust</td>\n",
       "      <td>Coventry and Warwickshire Partnership Trust</td>\n",
       "      <td>0.922035</td>\n",
       "    </tr>\n",
       "    <tr>\n",
       "      <th>749</th>\n",
       "      <td>STUDENT LOANS COMPANY LIMITED</td>\n",
       "      <td>Student Loans Company Ltd</td>\n",
       "      <td>0.903655</td>\n",
       "    </tr>\n",
       "    <tr>\n",
       "      <th>594</th>\n",
       "      <td>West Dorset District Council</td>\n",
       "      <td>EAST DORSET DISTRICT COUNCIL</td>\n",
       "      <td>0.907082</td>\n",
       "    </tr>\n",
       "    <tr>\n",
       "      <th>748</th>\n",
       "      <td>STUDENT LOANS COMPANY LIMITED</td>\n",
       "      <td>Student Loans Company</td>\n",
       "      <td>0.915689</td>\n",
       "    </tr>\n",
       "    <tr>\n",
       "      <th>366</th>\n",
       "      <td>DORSET &amp;amp; WILTSHIRE FIRE AND RESCUE SERVICE</td>\n",
       "      <td>Dorset &amp;amp; Wiltshire Fire and Rescue Authority</td>\n",
       "      <td>0.864642</td>\n",
       "    </tr>\n",
       "    <tr>\n",
       "      <th>649</th>\n",
       "      <td>Dorset HealthCare University NHS Foundation Trust</td>\n",
       "      <td>Dorset HeathCare University NHS Foundation Trust</td>\n",
       "      <td>0.927448</td>\n",
       "    </tr>\n",
       "    <tr>\n",
       "      <th>374</th>\n",
       "      <td>Metropolitan Police Service</td>\n",
       "      <td>Metropolitan Police</td>\n",
       "      <td>0.911782</td>\n",
       "    </tr>\n",
       "    <tr>\n",
       "      <th>817</th>\n",
       "      <td>Driver &amp;amp; Vehicle Licensing Agency</td>\n",
       "      <td>DfT,  Driver and Vehicle Licensing Agency</td>\n",
       "      <td>0.900624</td>\n",
       "    </tr>\n",
       "    <tr>\n",
       "      <th>465</th>\n",
       "      <td>Home Office</td>\n",
       "      <td>Home Office : Home Office</td>\n",
       "      <td>0.933306</td>\n",
       "    </tr>\n",
       "    <tr>\n",
       "      <th>903</th>\n",
       "      <td>Wycombe Distict Council</td>\n",
       "      <td>Wycombe District Council</td>\n",
       "      <td>0.889710</td>\n",
       "    </tr>\n",
       "    <tr>\n",
       "      <th>198</th>\n",
       "      <td>The Council of the Borough of Bournemouth</td>\n",
       "      <td>The Council of Borough of Bournemouth</td>\n",
       "      <td>0.924089</td>\n",
       "    </tr>\n",
       "    <tr>\n",
       "      <th>652</th>\n",
       "      <td>Dorset HealthCare University NHS Foundation Trust</td>\n",
       "      <td>Dorset Healthcare Nhs Foundation Trust</td>\n",
       "      <td>0.863991</td>\n",
       "    </tr>\n",
       "    <tr>\n",
       "      <th>567</th>\n",
       "      <td>EAST OF ENGLAND AMBULANCE SERVICE NHS TRUST</td>\n",
       "      <td>East of England Ambulance Service</td>\n",
       "      <td>0.921117</td>\n",
       "    </tr>\n",
       "    <tr>\n",
       "      <th>669</th>\n",
       "      <td>Ministry of Defence, C&amp;amp;C, C&amp;amp;C</td>\n",
       "      <td>Ministry of Defence, C&amp;C</td>\n",
       "      <td>0.917397</td>\n",
       "    </tr>\n",
       "    <tr>\n",
       "      <th>141</th>\n",
       "      <td>Cheshire West and Chester Borough Council</td>\n",
       "      <td>CHESHIRE WEST AND CHESTER COUNCIL</td>\n",
       "      <td>0.884949</td>\n",
       "    </tr>\n",
       "    <tr>\n",
       "      <th>50</th>\n",
       "      <td>Defence Science &amp; Technology Laboratory (DSTL)</td>\n",
       "      <td>Ministry of Defence, DSTL, Defence Science &amp; Technology Laboratory (DSTL)</td>\n",
       "      <td>0.913713</td>\n",
       "    </tr>\n",
       "  </tbody>\n",
       "</table>\n",
       "</div>"
      ],
      "text/plain": [
       "                                             left_side  ... similairity\n",
       "160  Telford &amp; Wrekin Council                       ...  0.895928  \n",
       "668  Ministry of Defence, C&amp;C, C&amp;C              ...  0.917397  \n",
       "310  WATER SERVICES REGULATION AUTHORITY                ...  0.855080  \n",
       "517  Coventry &amp; Warwickshire Partnership NHS Trust  ...  0.922035  \n",
       "519  Coventry &amp; Warwickshire Partnership NHS Trust  ...  0.922035  \n",
       "749  STUDENT LOANS COMPANY LIMITED                      ...  0.903655  \n",
       "594  West Dorset District Council                       ...  0.907082  \n",
       "748  STUDENT LOANS COMPANY LIMITED                      ...  0.915689  \n",
       "366  DORSET &amp; WILTSHIRE FIRE AND RESCUE SERVICE     ...  0.864642  \n",
       "649  Dorset HealthCare University NHS Foundation Trust  ...  0.927448  \n",
       "374  Metropolitan Police Service                        ...  0.911782  \n",
       "817  Driver &amp; Vehicle Licensing Agency              ...  0.900624  \n",
       "465  Home Office                                        ...  0.933306  \n",
       "903  Wycombe Distict Council                            ...  0.889710  \n",
       "198  The Council of the Borough of Bournemouth          ...  0.924089  \n",
       "652  Dorset HealthCare University NHS Foundation Trust  ...  0.863991  \n",
       "567  EAST OF ENGLAND AMBULANCE SERVICE NHS TRUST        ...  0.921117  \n",
       "669  Ministry of Defence, C&amp;C, C&amp;C              ...  0.917397  \n",
       "141  Cheshire West and Chester Borough Council          ...  0.884949  \n",
       "50   Defence Science & Technology Laboratory (DSTL)     ...  0.913713  \n",
       "\n",
       "[20 rows x 3 columns]"
      ]
     },
     "execution_count": 30,
     "metadata": {
      "tags": []
     },
     "output_type": "execute_result"
    }
   ],
   "source": [
    "matches_df = get_matches_df(matches, org_names, top=1000)\n",
    "matches_df = matches_df[matches_df['similairity'] < 0.99999] # Remove all exact matches\n",
    "matches_df.sample(20)"
   ]
  },
  {
   "cell_type": "code",
   "execution_count": 0,
   "metadata": {
    "colab": {
     "base_uri": "https://localhost:8080/",
     "height": 669
    },
    "colab_type": "code",
    "id": "4lSYc0aW9uzI",
    "outputId": "72874ad7-0fc3-41e3-d074-2f756875bb88"
   },
   "outputs": [
    {
     "data": {
      "text/html": [
       "<div>\n",
       "<style scoped>\n",
       "    .dataframe tbody tr th:only-of-type {\n",
       "        vertical-align: middle;\n",
       "    }\n",
       "\n",
       "    .dataframe tbody tr th {\n",
       "        vertical-align: top;\n",
       "    }\n",
       "\n",
       "    .dataframe thead th {\n",
       "        text-align: right;\n",
       "    }\n",
       "</style>\n",
       "<table border=\"1\" class=\"dataframe\">\n",
       "  <thead>\n",
       "    <tr style=\"text-align: right;\">\n",
       "      <th></th>\n",
       "      <th>left_side</th>\n",
       "      <th>right_side</th>\n",
       "      <th>similairity</th>\n",
       "    </tr>\n",
       "  </thead>\n",
       "  <tbody>\n",
       "    <tr>\n",
       "      <th>578</th>\n",
       "      <td>MINISTRY OF HOUSING, COMMUNITIES &amp;amp; LOCAL GOVERNMENT</td>\n",
       "      <td>Ministry of Housing, Communities &amp;amp; Local Government : Ministry of Housing, Communities &amp;amp; Local Government</td>\n",
       "      <td>0.985163</td>\n",
       "    </tr>\n",
       "    <tr>\n",
       "      <th>271</th>\n",
       "      <td>DEPARTMENT FOR INTERNATIONAL DEVELOPMENT</td>\n",
       "      <td>Department for International Development : Department for International Development</td>\n",
       "      <td>0.984561</td>\n",
       "    </tr>\n",
       "    <tr>\n",
       "      <th>170</th>\n",
       "      <td>DEPARTMENT FOR WORK AND PENSIONS</td>\n",
       "      <td>Department for Work and Pensions : Department for Work and Pensions</td>\n",
       "      <td>0.977116</td>\n",
       "    </tr>\n",
       "    <tr>\n",
       "      <th>781</th>\n",
       "      <td>Department for Work and Pensions</td>\n",
       "      <td>Department for Work and Pensions : Department for Work and Pensions</td>\n",
       "      <td>0.977116</td>\n",
       "    </tr>\n",
       "    <tr>\n",
       "      <th>637</th>\n",
       "      <td>Construction Industry Training Board</td>\n",
       "      <td>The Construction Industry Training Board</td>\n",
       "      <td>0.971572</td>\n",
       "    </tr>\n",
       "    <tr>\n",
       "      <th>144</th>\n",
       "      <td>THE UNITED KINGDOM HYDROGRAPHIC OFFICE</td>\n",
       "      <td>United Kingdom Hydrographic Office</td>\n",
       "      <td>0.971264</td>\n",
       "    </tr>\n",
       "    <tr>\n",
       "      <th>76</th>\n",
       "      <td>Department For Transport</td>\n",
       "      <td>Department for Transport : Department for Transport</td>\n",
       "      <td>0.969679</td>\n",
       "    </tr>\n",
       "    <tr>\n",
       "      <th>21</th>\n",
       "      <td>MINISTRY OF JUSTICE</td>\n",
       "      <td>Ministry of Justice : Ministry of Justice</td>\n",
       "      <td>0.967797</td>\n",
       "    </tr>\n",
       "    <tr>\n",
       "      <th>237</th>\n",
       "      <td>Ministry of Justice.</td>\n",
       "      <td>Ministry of Justice : Ministry of Justice</td>\n",
       "      <td>0.967797</td>\n",
       "    </tr>\n",
       "    <tr>\n",
       "      <th>425</th>\n",
       "      <td>THE COUNTESS OF CHESTER HOSPITAL NHS FOUNDATION TRUST</td>\n",
       "      <td>Countess Of Chester Hospital Nhs Foundation Trust</td>\n",
       "      <td>0.967022</td>\n",
       "    </tr>\n",
       "    <tr>\n",
       "      <th>426</th>\n",
       "      <td>THE COUNTESS OF CHESTER HOSPITAL NHS FOUNDATION TRUST</td>\n",
       "      <td>COUNTESS OF CHESTER HOSPITAL NHS FOUNDATION TRUST</td>\n",
       "      <td>0.967022</td>\n",
       "    </tr>\n",
       "    <tr>\n",
       "      <th>43</th>\n",
       "      <td>DEPARTMENT FOR EDUCATION</td>\n",
       "      <td>Department for Education : Department for Education</td>\n",
       "      <td>0.966699</td>\n",
       "    </tr>\n",
       "    <tr>\n",
       "      <th>701</th>\n",
       "      <td>Driver and Vehicle Standards Agency</td>\n",
       "      <td>The Driver &amp;amp; Vehicle Standards Agency</td>\n",
       "      <td>0.966187</td>\n",
       "    </tr>\n",
       "    <tr>\n",
       "      <th>700</th>\n",
       "      <td>Driver and Vehicle Standards Agency</td>\n",
       "      <td>The Driver and Vehicle Standards Agency</td>\n",
       "      <td>0.966187</td>\n",
       "    </tr>\n",
       "    <tr>\n",
       "      <th>459</th>\n",
       "      <td>Partners Procurement Service</td>\n",
       "      <td>Partners Procurement Services</td>\n",
       "      <td>0.964805</td>\n",
       "    </tr>\n",
       "    <tr>\n",
       "      <th>692</th>\n",
       "      <td>The Royal Borough of Kingston upon Thames</td>\n",
       "      <td>ROYAL BOROUGH OF KINGSTON-UPON-THAMES</td>\n",
       "      <td>0.962351</td>\n",
       "    </tr>\n",
       "    <tr>\n",
       "      <th>746</th>\n",
       "      <td>STUDENT LOANS COMPANY LIMITED</td>\n",
       "      <td>The Student Loans Company Limited</td>\n",
       "      <td>0.961784</td>\n",
       "    </tr>\n",
       "    <tr>\n",
       "      <th>476</th>\n",
       "      <td>Cabinet Office : Cabinet Office</td>\n",
       "      <td>Cabinet Office</td>\n",
       "      <td>0.961424</td>\n",
       "    </tr>\n",
       "    <tr>\n",
       "      <th>879</th>\n",
       "      <td>SOUTH OF ENGLAND PROCUREMENT SERVICES</td>\n",
       "      <td>NHS SOUTH OF ENGLAND PROCUREMENT SERVICES</td>\n",
       "      <td>0.958096</td>\n",
       "    </tr>\n",
       "    <tr>\n",
       "      <th>388</th>\n",
       "      <td>DIO, Defence Infrastructure Organisation (DIO)</td>\n",
       "      <td>DIO, Defence Infrastructure Organisation</td>\n",
       "      <td>0.952194</td>\n",
       "    </tr>\n",
       "  </tbody>\n",
       "</table>\n",
       "</div>"
      ],
      "text/plain": [
       "                                                   left_side  ... similairity\n",
       "578  MINISTRY OF HOUSING, COMMUNITIES &amp; LOCAL GOVERNMENT  ...  0.985163  \n",
       "271  DEPARTMENT FOR INTERNATIONAL DEVELOPMENT                 ...  0.984561  \n",
       "170  DEPARTMENT FOR WORK AND PENSIONS                         ...  0.977116  \n",
       "781  Department for Work and Pensions                         ...  0.977116  \n",
       "637  Construction Industry Training Board                     ...  0.971572  \n",
       "144  THE UNITED KINGDOM HYDROGRAPHIC OFFICE                   ...  0.971264  \n",
       "76   Department For Transport                                 ...  0.969679  \n",
       "21   MINISTRY OF JUSTICE                                      ...  0.967797  \n",
       "237  Ministry of Justice.                                     ...  0.967797  \n",
       "425  THE COUNTESS OF CHESTER HOSPITAL NHS FOUNDATION TRUST    ...  0.967022  \n",
       "426  THE COUNTESS OF CHESTER HOSPITAL NHS FOUNDATION TRUST    ...  0.967022  \n",
       "43   DEPARTMENT FOR EDUCATION                                 ...  0.966699  \n",
       "701  Driver and Vehicle Standards Agency                      ...  0.966187  \n",
       "700  Driver and Vehicle Standards Agency                      ...  0.966187  \n",
       "459  Partners Procurement Service                             ...  0.964805  \n",
       "692  The Royal Borough of Kingston upon Thames                ...  0.962351  \n",
       "746  STUDENT LOANS COMPANY LIMITED                            ...  0.961784  \n",
       "476  Cabinet Office : Cabinet Office                          ...  0.961424  \n",
       "879  SOUTH OF ENGLAND PROCUREMENT SERVICES                    ...  0.958096  \n",
       "388  DIO, Defence Infrastructure Organisation (DIO)           ...  0.952194  \n",
       "\n",
       "[20 rows x 3 columns]"
      ]
     },
     "execution_count": 31,
     "metadata": {
      "tags": []
     },
     "output_type": "execute_result"
    }
   ],
   "source": [
    "matches_df.sort_values(['similairity'], ascending=False).head(20)"
   ]
  },
  {
   "cell_type": "markdown",
   "metadata": {
    "colab_type": "text",
    "id": "wFYdDZbPjKZI"
   },
   "source": [
    "## Record linkage\n",
    "Using a similar technique to the above, we can join our messy data to a clean set of master data."
   ]
  },
  {
   "cell_type": "markdown",
   "metadata": {
    "colab_type": "text",
    "id": "G69wMxaaDi-x"
   },
   "source": [
    "The clean 'Gov Orgs ONS.xlsx' dataset can be found at the following link:\n",
    "https://drive.google.com/file/d/1uBxlrASNMA215x4o4pu8JmtA2Iu-sLNn/view?usp=sharing"
   ]
  },
  {
   "cell_type": "code",
   "execution_count": 0,
   "metadata": {
    "colab": {
     "base_uri": "https://localhost:8080/",
     "height": 136
    },
    "colab_type": "code",
    "id": "xo-X_nds97UN",
    "outputId": "db756e79-9ba8-40bc-8749-b9bbfaeaaa64"
   },
   "outputs": [
    {
     "name": "stdout",
     "output_type": "stream",
     "text": [
      "Vecorizing the data - this could take a few minutes for large datasets...\n",
      "Vecorizing completed...\n",
      "getting nearest n...\n",
      "COMPLETED IN: 0.8935930728912354\n",
      "finding matches...\n",
      "Building data frame...\n",
      "Done\n"
     ]
    }
   ],
   "source": [
    "\n",
    "\n",
    "##################\n",
    "from sklearn.metrics.pairwise import cosine_similarity\n",
    "from sklearn.feature_extraction.text import TfidfVectorizer\n",
    "import re\n",
    "\n",
    "clean_org_names = pd.read_excel('Gov Orgs ONS.xlsx')\n",
    "clean_org_names = clean_org_names.iloc[:, 0:6]\n",
    "\n",
    "org_name_clean = clean_org_names['Institutions'].unique()\n",
    "\n",
    "print('Vecorizing the data - this could take a few minutes for large datasets...')\n",
    "vectorizer = TfidfVectorizer(min_df=1, analyzer=ngrams, lowercase=False)\n",
    "tfidf = vectorizer.fit_transform(org_name_clean)\n",
    "print('Vecorizing completed...')\n",
    "\n",
    "from sklearn.neighbors import NearestNeighbors\n",
    "nbrs = NearestNeighbors(n_neighbors=1, n_jobs=-1).fit(tfidf)\n",
    "\n",
    "org_column = 'buyer' #column to match against in the messy data\n",
    "unique_org = set(names[org_column].values) # set used for increased performance\n",
    "\n",
    "\n",
    "###matching query:\n",
    "def getNearestN(query):\n",
    "  queryTFIDF_ = vectorizer.transform(query)\n",
    "  distances, indices = nbrs.kneighbors(queryTFIDF_)\n",
    "  return distances, indices\n",
    "\n",
    "import time\n",
    "t1 = time.time()\n",
    "print('getting nearest n...')\n",
    "distances, indices = getNearestN(unique_org)\n",
    "t = time.time()-t1\n",
    "print(\"COMPLETED IN:\", t)\n",
    "\n",
    "unique_org = list(unique_org) #need to convert back to a list\n",
    "print('finding matches...')\n",
    "matches = []\n",
    "for i,j in enumerate(indices):\n",
    "  temp = [round(distances[i][0],2), clean_org_names.values[j][0][0],unique_org[i]]\n",
    "  matches.append(temp)\n",
    "\n",
    "print('Building data frame...')  \n",
    "matches = pd.DataFrame(matches, columns=['Match confidence (lower is better)','Matched name','Origional name'])\n",
    "print('Done') "
   ]
  },
  {
   "cell_type": "code",
   "execution_count": 0,
   "metadata": {
    "colab": {
     "base_uri": "https://localhost:8080/",
     "height": 359
    },
    "colab_type": "code",
    "id": "Xwdfl4Gtqwet",
    "outputId": "2f98ddf7-6d4d-468e-d8ff-7fd14164b367"
   },
   "outputs": [
    {
     "data": {
      "text/html": [
       "<div>\n",
       "<style scoped>\n",
       "    .dataframe tbody tr th:only-of-type {\n",
       "        vertical-align: middle;\n",
       "    }\n",
       "\n",
       "    .dataframe tbody tr th {\n",
       "        vertical-align: top;\n",
       "    }\n",
       "\n",
       "    .dataframe thead th {\n",
       "        text-align: right;\n",
       "    }\n",
       "</style>\n",
       "<table border=\"1\" class=\"dataframe\">\n",
       "  <thead>\n",
       "    <tr style=\"text-align: right;\">\n",
       "      <th></th>\n",
       "      <th>Match confidence (lower is better)</th>\n",
       "      <th>Matched name</th>\n",
       "      <th>Origional name</th>\n",
       "    </tr>\n",
       "  </thead>\n",
       "  <tbody>\n",
       "    <tr>\n",
       "      <th>0</th>\n",
       "      <td>0.96</td>\n",
       "      <td>Offshore Renewable Energy Catapult</td>\n",
       "      <td>Energy Systems Catapult</td>\n",
       "    </tr>\n",
       "    <tr>\n",
       "      <th>1</th>\n",
       "      <td>1.01</td>\n",
       "      <td>Derby City Council</td>\n",
       "      <td>University of Derby</td>\n",
       "    </tr>\n",
       "    <tr>\n",
       "      <th>2</th>\n",
       "      <td>1.13</td>\n",
       "      <td>Remploy Limited</td>\n",
       "      <td>Sovini Limited</td>\n",
       "    </tr>\n",
       "    <tr>\n",
       "      <th>3</th>\n",
       "      <td>0.00</td>\n",
       "      <td>Leicester City Council</td>\n",
       "      <td>Leicester city council</td>\n",
       "    </tr>\n",
       "    <tr>\n",
       "      <th>4</th>\n",
       "      <td>0.82</td>\n",
       "      <td>Ministry of Defence</td>\n",
       "      <td>Ministry of Defence, C&amp;C, C&amp;C</td>\n",
       "    </tr>\n",
       "    <tr>\n",
       "      <th>5</th>\n",
       "      <td>1.10</td>\n",
       "      <td>Thurrock Council</td>\n",
       "      <td>BASILDON AND THURROCK UNIVERSITY HOSPITALS NHS FOUNDATION TRUST</td>\n",
       "    </tr>\n",
       "    <tr>\n",
       "      <th>6</th>\n",
       "      <td>0.00</td>\n",
       "      <td>London Borough of Hounslow</td>\n",
       "      <td>London Borough of Hounslow</td>\n",
       "    </tr>\n",
       "    <tr>\n",
       "      <th>7</th>\n",
       "      <td>0.00</td>\n",
       "      <td>Northumberland County Council</td>\n",
       "      <td>Northumberland County Council</td>\n",
       "    </tr>\n",
       "    <tr>\n",
       "      <th>8</th>\n",
       "      <td>0.80</td>\n",
       "      <td>Scottish Fire and Rescue Service</td>\n",
       "      <td>Derbyshire Fire and Rescue Service</td>\n",
       "    </tr>\n",
       "    <tr>\n",
       "      <th>9</th>\n",
       "      <td>1.02</td>\n",
       "      <td>The English Heritage Trust</td>\n",
       "      <td>English Heritage-National Collections: Historic Properties</td>\n",
       "    </tr>\n",
       "  </tbody>\n",
       "</table>\n",
       "</div>"
      ],
      "text/plain": [
       "   Match confidence (lower is better)  ...                                                   Origional name\n",
       "0  0.96                                ...  Energy Systems Catapult                                        \n",
       "1  1.01                                ...  University of Derby                                            \n",
       "2  1.13                                ...  Sovini Limited                                                 \n",
       "3  0.00                                ...  Leicester city council                                         \n",
       "4  0.82                                ...  Ministry of Defence, C&C, C&C                                  \n",
       "5  1.10                                ...  BASILDON AND THURROCK UNIVERSITY HOSPITALS NHS FOUNDATION TRUST\n",
       "6  0.00                                ...  London Borough of Hounslow                                     \n",
       "7  0.00                                ...  Northumberland County Council                                  \n",
       "8  0.80                                ...  Derbyshire Fire and Rescue Service                             \n",
       "9  1.02                                ...  English Heritage-National Collections: Historic Properties     \n",
       "\n",
       "[10 rows x 3 columns]"
      ]
     },
     "execution_count": 14,
     "metadata": {
      "tags": []
     },
     "output_type": "execute_result"
    }
   ],
   "source": [
    "matches.head(10)"
   ]
  },
  {
   "cell_type": "code",
   "execution_count": 0,
   "metadata": {
    "colab": {},
    "colab_type": "code",
    "id": "FSbSr_pNzAc4"
   },
   "outputs": [],
   "source": []
  }
 ],
 "metadata": {
  "colab": {
   "collapsed_sections": [],
   "name": "Fast Fuzzy Matching public.ipynb",
   "provenance": []
  },
  "kernelspec": {
   "display_name": "Python 3",
   "language": "python",
   "name": "python3"
  },
  "language_info": {
   "codemirror_mode": {
    "name": "ipython",
    "version": 3
   },
   "file_extension": ".py",
   "mimetype": "text/x-python",
   "name": "python",
   "nbconvert_exporter": "python",
   "pygments_lexer": "ipython3",
   "version": "3.7.1"
  }
 },
 "nbformat": 4,
 "nbformat_minor": 1
}
